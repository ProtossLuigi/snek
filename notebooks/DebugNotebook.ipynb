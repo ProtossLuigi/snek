{
 "cells": [
  {
   "cell_type": "code",
   "execution_count": 2,
   "id": "b5e37df0",
   "metadata": {},
   "outputs": [],
   "source": [
    "import numpy as np\n",
    "import skfuzzy as fuzz\n",
    "import matplotlib.pyplot as plt"
   ]
  },
  {
   "cell_type": "code",
   "execution_count": 10,
   "id": "cf159b3a",
   "metadata": {},
   "outputs": [
    {
     "data": {
      "text/plain": [
       "array([[58, 19],\n",
       "       [56, 17],\n",
       "       [54, 15]])"
      ]
     },
     "execution_count": 10,
     "metadata": {},
     "output_type": "execute_result"
    }
   ],
   "source": [
    "cords = np.array([[1, 2], [3, 4], [5, 6]])\n",
    "\n",
    "def coord_fun(coords):\n",
    "    x, y = coords[0], coords[1]\n",
    "    coords[0] = 60 - y\n",
    "    coords[1] = 20 - x\n",
    "    return coords\n",
    "\n",
    "np.apply_along_axis(coord_fun, 1, cords)"
   ]
  },
  {
   "cell_type": "code",
   "execution_count": 11,
   "id": "a8dceaf0",
   "metadata": {},
   "outputs": [
    {
     "data": {
      "text/plain": [
       "(3, 2)"
      ]
     },
     "execution_count": 11,
     "metadata": {},
     "output_type": "execute_result"
    }
   ],
   "source": [
    "cords.shape"
   ]
  },
  {
   "cell_type": "code",
   "execution_count": null,
   "id": "75cec30e",
   "metadata": {},
   "outputs": [],
   "source": []
  }
 ],
 "metadata": {
  "kernelspec": {
   "display_name": "Python 3 (ipykernel)",
   "language": "python",
   "name": "python3"
  },
  "language_info": {
   "codemirror_mode": {
    "name": "ipython",
    "version": 3
   },
   "file_extension": ".py",
   "mimetype": "text/x-python",
   "name": "python",
   "nbconvert_exporter": "python",
   "pygments_lexer": "ipython3",
   "version": "3.10.4"
  }
 },
 "nbformat": 4,
 "nbformat_minor": 5
}
